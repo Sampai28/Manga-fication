{
 "cells": [
  {
   "cell_type": "code",
   "execution_count": 1,
   "id": "5b8bbee3",
   "metadata": {},
   "outputs": [],
   "source": [
    "import cv2 as cv\n",
    "import numpy as np\n",
    "import math\n",
    "import os"
   ]
  },
  {
   "cell_type": "code",
   "execution_count": 2,
   "id": "ddb487ec",
   "metadata": {},
   "outputs": [],
   "source": [
    "def dodgeV2(x, y):\n",
    "    return cv.divide(x, 255 - y, scale=256)"
   ]
  },
  {
   "cell_type": "code",
   "execution_count": 75,
   "id": "f2504d88",
   "metadata": {},
   "outputs": [],
   "source": [
    "def turn2sketch(img):\n",
    "    gray = cv.cvtColor(img, cv.COLOR_BGR2GRAY)\n",
    "    inv = cv.bitwise_not(gray)\n",
    "    smooth = cv.GaussianBlur(inv, (87,87),0)\n",
    "    final = dodgeV2(gray, smooth)\n",
    "    #ret,thresh1 = cv.threshold(final,240,255,cv.THRESH_BINARY)\n",
    "    return final"
   ]
  },
  {
   "cell_type": "code",
   "execution_count": 81,
   "id": "4f778dbe",
   "metadata": {},
   "outputs": [
    {
     "name": "stdout",
     "output_type": "stream",
     "text": [
      "-----------------Done-----------------------\n"
     ]
    }
   ],
   "source": [
    "fps=60\n",
    "width = 600\n",
    "height = 300\n",
    "\n",
    "\n",
    "cap = cv.VideoCapture('C:\\\\Users\\\\pc\\\\Desktop\\\\test.mp4')\n",
    "output_size = (600,300)\n",
    "fourcc = cv.VideoWriter_fourcc(*'X264')\n",
    "result = cv.VideoWriter('C:\\\\Users\\\\pc\\\\Desktop\\\\output.mp4', fourcc, 60, output_size)\n",
    "\n",
    "if cap.isOpened()==False:\n",
    "    print('Error')\n",
    "while cap.isOpened():\n",
    "    ret,frame = cap.read()\n",
    "    if ret:\n",
    "        frame = cv.resize(frame, output_size, interpolation = cv.INTER_CUBIC)\n",
    "        frame2 = turn2sketch(frame)\n",
    "        #cv.imshow('frame', frame)\n",
    "        #cv.imshow('frame2',frame2)\n",
    "        result.write(frame2)\n",
    "        if cv.waitKey(1) & 0xFF == ord('q'):\n",
    "            break\n",
    "    else:\n",
    "        break\n",
    "cap.release()\n",
    "result.release()\n",
    "print('-----------------Done-----------------------')\n",
    "cv.destroyAllWindows()"
   ]
  },
  {
   "cell_type": "code",
   "execution_count": null,
   "id": "8efd3068",
   "metadata": {},
   "outputs": [],
   "source": []
  }
 ],
 "metadata": {
  "kernelspec": {
   "display_name": "Python 3",
   "language": "python",
   "name": "python3"
  },
  "language_info": {
   "codemirror_mode": {
    "name": "ipython",
    "version": 3
   },
   "file_extension": ".py",
   "mimetype": "text/x-python",
   "name": "python",
   "nbconvert_exporter": "python",
   "pygments_lexer": "ipython3",
   "version": "3.9.4"
  }
 },
 "nbformat": 4,
 "nbformat_minor": 5
}
